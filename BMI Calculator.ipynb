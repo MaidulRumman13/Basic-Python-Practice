{
 "cells": [
  {
   "cell_type": "markdown",
   "id": "f1919598-3743-44c4-a80f-af8cb72edb90",
   "metadata": {},
   "source": [
    "### BMI Calculator"
   ]
  },
  {
   "cell_type": "code",
   "execution_count": 24,
   "id": "29ff9828-c731-4ec6-b009-6f99cba07781",
   "metadata": {},
   "outputs": [
    {
     "name": "stdin",
     "output_type": "stream",
     "text": [
      "Enter your name:  Rumman\n",
      "Enter your weight in pounds:  194\n",
      "Enter your weight in inches:  68\n"
     ]
    },
    {
     "name": "stdout",
     "output_type": "stream",
     "text": [
      "29.494377162629757\n",
      "Rumman, You are Overweight\n"
     ]
    }
   ],
   "source": [
    "name = input(\"Enter your name: \")\n",
    "\n",
    "weight = int(input(\"Enter your weight in pounds: \"))\n",
    "\n",
    "height = int(input(\"Enter your weight in inches: \"))\n",
    "\n",
    "BMI = (weight * 703) / (height * height)\n",
    "\n",
    "print(BMI)\n",
    "\n",
    "if BMI>0:\n",
    "    if(BMI<18.5):\n",
    "        print(name +', You are Underweight')\n",
    "    elif(BMI<=24.9):\n",
    "        print(name +', You are Normal Weigh')\n",
    "    elif(BMI<=29.9):\n",
    "        print(name +', You are Overweight')\n",
    "    elif(BMI<=34.9):\n",
    "        print(name +', You are Obese High')\n",
    "    elif(BMI<=39.9):\n",
    "        print(name +', You are Very High')\n",
    "    else:\n",
    "        print(name +', You are Extremely High')\n",
    "else:\n",
    "    print('Enter valid inputs.')"
   ]
  },
  {
   "cell_type": "code",
   "execution_count": null,
   "id": "39ebaffb-e52d-47ff-ab0e-d493fe18774c",
   "metadata": {},
   "outputs": [],
   "source": []
  },
  {
   "cell_type": "code",
   "execution_count": null,
   "id": "862f621c-555d-49cc-a83d-b43a88dbe3e6",
   "metadata": {},
   "outputs": [],
   "source": []
  },
  {
   "cell_type": "code",
   "execution_count": null,
   "id": "ab5354de-c379-4476-b22c-bc8c60fc26cb",
   "metadata": {},
   "outputs": [],
   "source": []
  },
  {
   "cell_type": "code",
   "execution_count": null,
   "id": "cf48ea63-8c64-49a8-8f57-557949caf6e3",
   "metadata": {},
   "outputs": [],
   "source": []
  },
  {
   "cell_type": "code",
   "execution_count": null,
   "id": "67195e42-50e8-4b9b-886c-4a334024f552",
   "metadata": {},
   "outputs": [],
   "source": []
  },
  {
   "cell_type": "code",
   "execution_count": null,
   "id": "0bda18d3-0260-4e57-91c6-3a0e491c88f9",
   "metadata": {},
   "outputs": [],
   "source": [
    "#BMI = (weight in pounds x 703) / (height in inches x height in inches)"
   ]
  },
  {
   "cell_type": "code",
   "execution_count": 18,
   "id": "f04be087-86cf-4abe-86d8-fc6f92d32b8b",
   "metadata": {},
   "outputs": [
    {
     "data": {
      "text/plain": [
       "'\\nUnder 18.5\\tUnderweight\\tMinimal\\n18.5 - 24.9\\tNormal Weight\\tMinimal\\n25 - 29.9\\tOverweight\\tIncreased\\n30 - 34.9\\tObese\\tHigh\\n35 - 39.9\\tSeverely Obese\\tVery High\\n40 and over\\tMorbidly Obese\\tExtremely High\\n'"
      ]
     },
     "execution_count": 18,
     "metadata": {},
     "output_type": "execute_result"
    }
   ],
   "source": [
    "\"\"\"\n",
    "Under 18.5\tUnderweight\tMinimal\n",
    "18.5 - 24.9\tNormal Weight\tMinimal\n",
    "25 - 29.9\tOverweight\tIncreased\n",
    "30 - 34.9\tObese\tHigh\n",
    "35 - 39.9\tSeverely Obese\tVery High\n",
    "40 and over\tMorbidly Obese\tExtremely High\n",
    "\"\"\""
   ]
  },
  {
   "cell_type": "code",
   "execution_count": 20,
   "id": "17436bde-0563-4847-a4fc-6495d480765d",
   "metadata": {},
   "outputs": [
    {
     "name": "stdout",
     "output_type": "stream",
     "text": [
      "Rumman, You are Overweight\n"
     ]
    }
   ],
   "source": [
    "if BMI>0:\n",
    "    if(BMI<18.5):\n",
    "        print(name +', You are Underweight')\n",
    "    elif(BMI<=24.9):\n",
    "        print(name +', You are Normal Weigh')\n",
    "    elif(BMI<=29.9):\n",
    "        print(name +', You are Overweight')\n",
    "    elif(BMI<=34.9):\n",
    "        print(name +', You are Obese High')\n",
    "    elif(BMI<=39.9):\n",
    "        print(name +', You are Very High')\n",
    "    else:\n",
    "        print(name +', You are Extremely High')\n",
    "else:\n",
    "    print('Enter valid inputs.')"
   ]
  },
  {
   "cell_type": "code",
   "execution_count": null,
   "id": "18e73ba4-a411-4768-80cd-c5bc33707b22",
   "metadata": {},
   "outputs": [],
   "source": []
  },
  {
   "cell_type": "code",
   "execution_count": null,
   "id": "7ea662de-d523-4d7b-a0b9-92121f79a00a",
   "metadata": {},
   "outputs": [],
   "source": []
  },
  {
   "cell_type": "code",
   "execution_count": null,
   "id": "25d804f8-c8e4-44c3-a69f-acc2c56fc07f",
   "metadata": {},
   "outputs": [],
   "source": []
  },
  {
   "cell_type": "code",
   "execution_count": null,
   "id": "8f96417f-26f5-4adf-bf9d-4cb87f8d6468",
   "metadata": {},
   "outputs": [],
   "source": []
  },
  {
   "cell_type": "code",
   "execution_count": null,
   "id": "d88999f7-44c1-4e16-919d-a9a7ca03ff5d",
   "metadata": {},
   "outputs": [],
   "source": []
  },
  {
   "cell_type": "code",
   "execution_count": null,
   "id": "f6b2b622-eaf5-4e8b-8d9a-406dc02596d6",
   "metadata": {},
   "outputs": [],
   "source": []
  },
  {
   "cell_type": "code",
   "execution_count": null,
   "id": "116629b1-82cf-4940-9725-c8641e5e88cf",
   "metadata": {},
   "outputs": [],
   "source": []
  },
  {
   "cell_type": "code",
   "execution_count": null,
   "id": "64d562bc-858e-4fbb-b5ae-cd7a7b70dc58",
   "metadata": {},
   "outputs": [],
   "source": []
  },
  {
   "cell_type": "code",
   "execution_count": null,
   "id": "c75e6b04-0c06-4dc2-ab62-c210e73b41d0",
   "metadata": {},
   "outputs": [],
   "source": []
  },
  {
   "cell_type": "code",
   "execution_count": null,
   "id": "bbd2dc62-8ccc-4307-9f50-0b69039b06fe",
   "metadata": {},
   "outputs": [],
   "source": []
  },
  {
   "cell_type": "code",
   "execution_count": null,
   "id": "fc94bd3d-7299-4f97-9ee1-ef4358775aae",
   "metadata": {},
   "outputs": [],
   "source": []
  },
  {
   "cell_type": "code",
   "execution_count": null,
   "id": "31219fde-bcd1-4439-ad2d-184517a7f695",
   "metadata": {},
   "outputs": [],
   "source": []
  },
  {
   "cell_type": "code",
   "execution_count": null,
   "id": "a5aecca1-34df-40e3-8a67-9ede552da0e1",
   "metadata": {},
   "outputs": [],
   "source": []
  },
  {
   "cell_type": "code",
   "execution_count": null,
   "id": "8aa9ad41-b33d-46bb-a64d-95a8b6ff6d0d",
   "metadata": {},
   "outputs": [],
   "source": []
  },
  {
   "cell_type": "code",
   "execution_count": null,
   "id": "6a027ab2-46dc-467e-87ba-c98a9d943a7a",
   "metadata": {},
   "outputs": [],
   "source": []
  },
  {
   "cell_type": "code",
   "execution_count": null,
   "id": "37b56e6c-4af0-4aa2-b476-b8e8766db4f5",
   "metadata": {},
   "outputs": [],
   "source": []
  },
  {
   "cell_type": "code",
   "execution_count": null,
   "id": "d86be4e6-9a54-4de4-96fe-c4e874f4dee3",
   "metadata": {},
   "outputs": [],
   "source": []
  },
  {
   "cell_type": "code",
   "execution_count": null,
   "id": "e542b234-3f97-4977-90ce-1a44dded8da1",
   "metadata": {},
   "outputs": [],
   "source": []
  }
 ],
 "metadata": {
  "kernelspec": {
   "display_name": "Python [conda env:base] *",
   "language": "python",
   "name": "conda-base-py"
  },
  "language_info": {
   "codemirror_mode": {
    "name": "ipython",
    "version": 3
   },
   "file_extension": ".py",
   "mimetype": "text/x-python",
   "name": "python",
   "nbconvert_exporter": "python",
   "pygments_lexer": "ipython3",
   "version": "3.12.7"
  }
 },
 "nbformat": 4,
 "nbformat_minor": 5
}
