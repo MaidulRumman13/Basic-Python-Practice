{
 "cells": [
  {
   "cell_type": "markdown",
   "id": "316f6461-d143-406e-98ea-24dd606686cb",
   "metadata": {},
   "source": [
    "Comparison Operator "
   ]
  },
  {
   "cell_type": "code",
   "execution_count": 5,
   "id": "e531b069-0f31-4a59-983b-9b982f46e801",
   "metadata": {},
   "outputs": [
    {
     "data": {
      "text/plain": [
       "True"
      ]
     },
     "execution_count": 5,
     "metadata": {},
     "output_type": "execute_result"
    }
   ],
   "source": [
    "10 == 10"
   ]
  },
  {
   "cell_type": "code",
   "execution_count": 7,
   "id": "3626df2c-3dbc-4de0-a831-68d0a5ecd084",
   "metadata": {},
   "outputs": [
    {
     "data": {
      "text/plain": [
       "True"
      ]
     },
     "execution_count": 7,
     "metadata": {},
     "output_type": "execute_result"
    }
   ],
   "source": [
    "10 != 50"
   ]
  },
  {
   "cell_type": "code",
   "execution_count": 9,
   "id": "f33a8a96-cc75-4d43-a0b3-1ec4f7a5dcd9",
   "metadata": {},
   "outputs": [
    {
     "data": {
      "text/plain": [
       "True"
      ]
     },
     "execution_count": 9,
     "metadata": {},
     "output_type": "execute_result"
    }
   ],
   "source": [
    "10< 50"
   ]
  },
  {
   "cell_type": "code",
   "execution_count": 11,
   "id": "2a7842bc-91f4-4e4e-a747-8b70b2be8e96",
   "metadata": {},
   "outputs": [
    {
     "data": {
      "text/plain": [
       "False"
      ]
     },
     "execution_count": 11,
     "metadata": {},
     "output_type": "execute_result"
    }
   ],
   "source": [
    "10>50"
   ]
  },
  {
   "cell_type": "code",
   "execution_count": 13,
   "id": "1340e758-0b5c-4c49-b714-68150924f422",
   "metadata": {},
   "outputs": [
    {
     "data": {
      "text/plain": [
       "True"
      ]
     },
     "execution_count": 13,
     "metadata": {},
     "output_type": "execute_result"
    }
   ],
   "source": [
    "10 <=50"
   ]
  },
  {
   "cell_type": "code",
   "execution_count": 15,
   "id": "100375b7-ffa5-491f-94f8-2121a3f7ba4e",
   "metadata": {},
   "outputs": [
    {
     "data": {
      "text/plain": [
       "False"
      ]
     },
     "execution_count": 15,
     "metadata": {},
     "output_type": "execute_result"
    }
   ],
   "source": [
    "10 >= 30"
   ]
  },
  {
   "cell_type": "markdown",
   "id": "098f9003-232c-4513-a4ee-2b23ea7d192c",
   "metadata": {},
   "source": [
    "Logical Operators"
   ]
  },
  {
   "cell_type": "code",
   "execution_count": 24,
   "id": "7e0c9cee-5cad-419c-9f2b-1c8ec0c91eb6",
   "metadata": {},
   "outputs": [
    {
     "data": {
      "text/plain": [
       "True"
      ]
     },
     "execution_count": 24,
     "metadata": {},
     "output_type": "execute_result"
    }
   ],
   "source": [
    "(10 < 50) and (50 > 10)"
   ]
  },
  {
   "cell_type": "code",
   "execution_count": 26,
   "id": "9c05b130-32ff-4b1d-9d62-73868f2dfe1d",
   "metadata": {},
   "outputs": [
    {
     "data": {
      "text/plain": [
       "True"
      ]
     },
     "execution_count": 26,
     "metadata": {},
     "output_type": "execute_result"
    }
   ],
   "source": [
    "(10<5) or (10>5)"
   ]
  },
  {
   "cell_type": "markdown",
   "id": "09f53227-a5a2-4084-b1f6-a7f293ebfa60",
   "metadata": {},
   "source": [
    "Membership Operators"
   ]
  },
  {
   "cell_type": "code",
   "execution_count": 33,
   "id": "3c6c5a30-67c3-475d-967e-243823f6ac8f",
   "metadata": {},
   "outputs": [
    {
     "data": {
      "text/plain": [
       "True"
      ]
     },
     "execution_count": 33,
     "metadata": {},
     "output_type": "execute_result"
    }
   ],
   "source": [
    "ice_cream = 'I love Chocolate ice cream'\n",
    "\n",
    "'love' in ice_cream"
   ]
  },
  {
   "cell_type": "code",
   "execution_count": 37,
   "id": "86f0d0b4-a688-47ff-a2f1-d83cb6b2500b",
   "metadata": {},
   "outputs": [
    {
     "data": {
      "text/plain": [
       "True"
      ]
     },
     "execution_count": 37,
     "metadata": {},
     "output_type": "execute_result"
    }
   ],
   "source": [
    "scoops = [1,2,3,4,5]\n",
    "6 not in scoops"
   ]
  },
  {
   "cell_type": "code",
   "execution_count": null,
   "id": "18eb4fc9-a5c6-44a2-99a0-041a5660af10",
   "metadata": {},
   "outputs": [],
   "source": []
  },
  {
   "cell_type": "code",
   "execution_count": null,
   "id": "67ecab2d-710b-451e-b68c-c2355cec1ded",
   "metadata": {},
   "outputs": [],
   "source": []
  },
  {
   "cell_type": "code",
   "execution_count": null,
   "id": "0fb22824-4687-4fe2-be67-c81b1af545aa",
   "metadata": {},
   "outputs": [],
   "source": []
  },
  {
   "cell_type": "code",
   "execution_count": null,
   "id": "7b1eb8f4-6f87-468b-8825-60c3c1a500ed",
   "metadata": {},
   "outputs": [],
   "source": []
  }
 ],
 "metadata": {
  "kernelspec": {
   "display_name": "Python [conda env:base] *",
   "language": "python",
   "name": "conda-base-py"
  },
  "language_info": {
   "codemirror_mode": {
    "name": "ipython",
    "version": 3
   },
   "file_extension": ".py",
   "mimetype": "text/x-python",
   "name": "python",
   "nbconvert_exporter": "python",
   "pygments_lexer": "ipython3",
   "version": "3.12.7"
  }
 },
 "nbformat": 4,
 "nbformat_minor": 5
}
