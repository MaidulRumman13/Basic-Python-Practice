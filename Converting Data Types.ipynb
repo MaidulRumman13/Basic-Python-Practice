{
 "cells": [
  {
   "cell_type": "markdown",
   "id": "dc4e5ea6-a9ec-40ab-8961-a3c28293a2dd",
   "metadata": {},
   "source": [
    "### Converting Data Types"
   ]
  },
  {
   "cell_type": "code",
   "execution_count": 4,
   "id": "1ef25f13-9a6e-481a-8197-97e25ee0a203",
   "metadata": {},
   "outputs": [
    {
     "data": {
      "text/plain": [
       "int"
      ]
     },
     "execution_count": 4,
     "metadata": {},
     "output_type": "execute_result"
    }
   ],
   "source": [
    "num_int = 7\n",
    "\n",
    "type(num_int)"
   ]
  },
  {
   "cell_type": "code",
   "execution_count": 6,
   "id": "405a686a-f279-4712-826b-83276ceb6288",
   "metadata": {},
   "outputs": [
    {
     "data": {
      "text/plain": [
       "str"
      ]
     },
     "execution_count": 6,
     "metadata": {},
     "output_type": "execute_result"
    }
   ],
   "source": [
    "num_str = '7'\n",
    "\n",
    "type(num_str)"
   ]
  },
  {
   "cell_type": "code",
   "execution_count": 8,
   "id": "115ed638-7c04-4ade-acdf-b8875f456882",
   "metadata": {},
   "outputs": [],
   "source": [
    "num_str_conv = int(num_str)\n",
    "\n",
    "num_str = num_str_conv"
   ]
  },
  {
   "cell_type": "code",
   "execution_count": 16,
   "id": "53872f6c-013a-44c4-b40b-3c3383c71ada",
   "metadata": {},
   "outputs": [
    {
     "name": "stdout",
     "output_type": "stream",
     "text": [
      "14\n"
     ]
    }
   ],
   "source": [
    "num_sum = num_int + num_str\n",
    "\n",
    "print(num_sum)"
   ]
  },
  {
   "cell_type": "code",
   "execution_count": 18,
   "id": "2d7d1ff9-b5cb-409d-b772-e69922c47754",
   "metadata": {},
   "outputs": [
    {
     "data": {
      "text/plain": [
       "list"
      ]
     },
     "execution_count": 18,
     "metadata": {},
     "output_type": "execute_result"
    }
   ],
   "source": [
    "list_type = [1,2,3]\n",
    "\n",
    "type(list_type)"
   ]
  },
  {
   "cell_type": "code",
   "execution_count": 28,
   "id": "fe3c96f3-64b4-4547-b162-9c4e769e2f93",
   "metadata": {},
   "outputs": [
    {
     "data": {
      "text/plain": [
       "tuple"
      ]
     },
     "execution_count": 28,
     "metadata": {},
     "output_type": "execute_result"
    }
   ],
   "source": [
    "type(tuple(list_type))"
   ]
  },
  {
   "cell_type": "code",
   "execution_count": 30,
   "id": "10c69fad-8163-4d32-b307-f750db5893fa",
   "metadata": {},
   "outputs": [],
   "source": [
    "list_type = [1,2,3,3,2,1,2,3,2,1]"
   ]
  },
  {
   "cell_type": "code",
   "execution_count": 33,
   "id": "ddb73dc7-8292-47dc-aeac-334bd3984752",
   "metadata": {},
   "outputs": [
    {
     "data": {
      "text/plain": [
       "{1, 2, 3}"
      ]
     },
     "execution_count": 33,
     "metadata": {},
     "output_type": "execute_result"
    }
   ],
   "source": [
    "set(list_type)"
   ]
  },
  {
   "cell_type": "code",
   "execution_count": 35,
   "id": "57285e7c-9eca-44df-ad07-73bf16526d23",
   "metadata": {},
   "outputs": [
    {
     "data": {
      "text/plain": [
       "dict"
      ]
     },
     "execution_count": 35,
     "metadata": {},
     "output_type": "execute_result"
    }
   ],
   "source": [
    "dict_type = {'name': 'Rumman', 'Age': 28, 'Hair': 'M/A'}\n",
    "\n",
    "type(dict_type)"
   ]
  },
  {
   "cell_type": "code",
   "execution_count": 37,
   "id": "c3b357e7-b184-45db-8b15-4e22b512a373",
   "metadata": {},
   "outputs": [
    {
     "data": {
      "text/plain": [
       "dict_items([('name', 'Rumman'), ('Age', 28), ('Hair', 'M/A')])"
      ]
     },
     "execution_count": 37,
     "metadata": {},
     "output_type": "execute_result"
    }
   ],
   "source": [
    "dict_type.items()"
   ]
  },
  {
   "cell_type": "code",
   "execution_count": 39,
   "id": "ef12367d-22a5-437a-846e-f1b2d7530bdf",
   "metadata": {},
   "outputs": [
    {
     "data": {
      "text/plain": [
       "dict_values(['Rumman', 28, 'M/A'])"
      ]
     },
     "execution_count": 39,
     "metadata": {},
     "output_type": "execute_result"
    }
   ],
   "source": [
    "dict_type.values()"
   ]
  },
  {
   "cell_type": "code",
   "execution_count": 41,
   "id": "7a80fbc3-8322-4582-a172-91a972f7ef0a",
   "metadata": {},
   "outputs": [
    {
     "data": {
      "text/plain": [
       "dict_keys(['name', 'Age', 'Hair'])"
      ]
     },
     "execution_count": 41,
     "metadata": {},
     "output_type": "execute_result"
    }
   ],
   "source": [
    "dict_type.keys()"
   ]
  },
  {
   "cell_type": "code",
   "execution_count": 45,
   "id": "7d464438-e424-4443-a6d7-e03c1176c1bb",
   "metadata": {},
   "outputs": [
    {
     "data": {
      "text/plain": [
       "list"
      ]
     },
     "execution_count": 45,
     "metadata": {},
     "output_type": "execute_result"
    }
   ],
   "source": [
    "type(list(dict_type.keys()))"
   ]
  },
  {
   "cell_type": "code",
   "execution_count": 47,
   "id": "a5e92169-2e2f-49f5-9565-e4874b514555",
   "metadata": {},
   "outputs": [
    {
     "data": {
      "text/plain": [
       "list"
      ]
     },
     "execution_count": 47,
     "metadata": {},
     "output_type": "execute_result"
    }
   ],
   "source": [
    "type(list(dict_type.values()))"
   ]
  },
  {
   "cell_type": "code",
   "execution_count": 49,
   "id": "41f81be2-b13f-4069-973a-9c2c901fbda0",
   "metadata": {},
   "outputs": [
    {
     "data": {
      "text/plain": [
       "{' ', 'I', 'a', 'e', 'l', 'm', 'o', 's', 'v'}"
      ]
     },
     "execution_count": 49,
     "metadata": {},
     "output_type": "execute_result"
    }
   ],
   "source": [
    "long_str = 'I love Islam'\n",
    "\n",
    "set(long_str)"
   ]
  },
  {
   "cell_type": "code",
   "execution_count": null,
   "id": "34848569-4142-4fac-bdec-ecdb559d6734",
   "metadata": {},
   "outputs": [],
   "source": []
  },
  {
   "cell_type": "code",
   "execution_count": null,
   "id": "a4d2bff3-4240-4ddb-a06b-0985b5b373c8",
   "metadata": {},
   "outputs": [],
   "source": []
  },
  {
   "cell_type": "code",
   "execution_count": null,
   "id": "06f77639-caac-4f6e-931c-1ae529650b9c",
   "metadata": {},
   "outputs": [],
   "source": []
  },
  {
   "cell_type": "code",
   "execution_count": null,
   "id": "0132cc74-ab00-47cc-ad4a-12578c4301bb",
   "metadata": {},
   "outputs": [],
   "source": []
  },
  {
   "cell_type": "code",
   "execution_count": null,
   "id": "f8a67ee4-5dd8-4e29-8c09-f6574bfaee2a",
   "metadata": {},
   "outputs": [],
   "source": []
  }
 ],
 "metadata": {
  "kernelspec": {
   "display_name": "Python [conda env:base] *",
   "language": "python",
   "name": "conda-base-py"
  },
  "language_info": {
   "codemirror_mode": {
    "name": "ipython",
    "version": 3
   },
   "file_extension": ".py",
   "mimetype": "text/x-python",
   "name": "python",
   "nbconvert_exporter": "python",
   "pygments_lexer": "ipython3",
   "version": "3.12.7"
  }
 },
 "nbformat": 4,
 "nbformat_minor": 5
}
