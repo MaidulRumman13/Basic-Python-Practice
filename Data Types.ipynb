{
 "cells": [
  {
   "cell_type": "markdown",
   "id": "6da2d7b9-a109-4776-ac5c-4bc9caf474f4",
   "metadata": {},
   "source": [
    "Data Types"
   ]
  },
  {
   "cell_type": "code",
   "execution_count": 9,
   "id": "826b6d84-7995-4e6c-98a9-d093fadcdf5b",
   "metadata": {},
   "outputs": [
    {
     "data": {
      "text/plain": [
       "int"
      ]
     },
     "execution_count": 9,
     "metadata": {},
     "output_type": "execute_result"
    }
   ],
   "source": [
    "# Numeric\n",
    "\n",
    "type(-12 + 22)"
   ]
  },
  {
   "cell_type": "code",
   "execution_count": 3,
   "id": "519eb1c1-70f5-43cb-90f2-8e98bafeed84",
   "metadata": {},
   "outputs": [
    {
     "data": {
      "text/plain": [
       "float"
      ]
     },
     "execution_count": 3,
     "metadata": {},
     "output_type": "execute_result"
    }
   ],
   "source": [
    "type(12 + 10.25)"
   ]
  },
  {
   "cell_type": "code",
   "execution_count": 7,
   "id": "4ae10436-a269-42fe-92c0-275d09c1215a",
   "metadata": {},
   "outputs": [
    {
     "data": {
      "text/plain": [
       "complex"
      ]
     },
     "execution_count": 7,
     "metadata": {},
     "output_type": "execute_result"
    }
   ],
   "source": [
    "type(12 + 10j)"
   ]
  },
  {
   "cell_type": "code",
   "execution_count": 15,
   "id": "e159a73a-0741-478f-aefa-f3aad464d868",
   "metadata": {},
   "outputs": [
    {
     "data": {
      "text/plain": [
       "bool"
      ]
     },
     "execution_count": 15,
     "metadata": {},
     "output_type": "execute_result"
    }
   ],
   "source": [
    "# Boolean\n",
    "type(True)"
   ]
  },
  {
   "cell_type": "code",
   "execution_count": 17,
   "id": "60e28653-0ccb-4747-ab45-1311a8640aa0",
   "metadata": {},
   "outputs": [
    {
     "data": {
      "text/plain": [
       "bool"
      ]
     },
     "execution_count": 17,
     "metadata": {},
     "output_type": "execute_result"
    }
   ],
   "source": [
    "type(False)"
   ]
  },
  {
   "cell_type": "code",
   "execution_count": 21,
   "id": "8699cce3-1141-4f36-a0fa-b69edf5498da",
   "metadata": {},
   "outputs": [
    {
     "data": {
      "text/plain": [
       "False"
      ]
     },
     "execution_count": 21,
     "metadata": {},
     "output_type": "execute_result"
    }
   ],
   "source": [
    "1>5"
   ]
  },
  {
   "cell_type": "code",
   "execution_count": 23,
   "id": "ad447968-9d7f-408a-a4dd-a6976f0e9645",
   "metadata": {},
   "outputs": [
    {
     "data": {
      "text/plain": [
       "True"
      ]
     },
     "execution_count": 23,
     "metadata": {},
     "output_type": "execute_result"
    }
   ],
   "source": [
    "1 == 1"
   ]
  },
  {
   "cell_type": "code",
   "execution_count": 33,
   "id": "d17cb55a-0cbe-41fc-8e67-52a2b5d18489",
   "metadata": {},
   "outputs": [
    {
     "data": {
      "text/plain": [
       "str"
      ]
     },
     "execution_count": 33,
     "metadata": {},
     "output_type": "execute_result"
    }
   ],
   "source": [
    "#String \n",
    "type('back')"
   ]
  },
  {
   "cell_type": "code",
   "execution_count": 35,
   "id": "abf89ced-5bfc-4f78-9e5f-c8b4eed3e0df",
   "metadata": {},
   "outputs": [],
   "source": [
    "multiline = \"\"\"\n",
    "The ice crea vanquished\n",
    "my longing for sweets,\n",
    "upon this diet I look away,\n",
    "it no longer exists on this day.\n",
    "\"\"\""
   ]
  },
  {
   "cell_type": "code",
   "execution_count": 37,
   "id": "145934e5-01ad-46c2-90dd-36ece8dc8ea1",
   "metadata": {},
   "outputs": [
    {
     "name": "stdout",
     "output_type": "stream",
     "text": [
      "\n",
      "The ice crea vanquished\n",
      "my longing for sweets,\n",
      "upon this diet I look away,\n",
      "it no longer exists on this day.\n",
      "\n"
     ]
    }
   ],
   "source": [
    "print(multiline)"
   ]
  },
  {
   "cell_type": "code",
   "execution_count": 39,
   "id": "f1198459-c76a-4bc0-a9cd-ee7c3dbcb7f5",
   "metadata": {},
   "outputs": [
    {
     "data": {
      "text/plain": [
       "str"
      ]
     },
     "execution_count": 39,
     "metadata": {},
     "output_type": "execute_result"
    }
   ],
   "source": [
    "type(multiline)"
   ]
  },
  {
   "cell_type": "code",
   "execution_count": 41,
   "id": "a409c263-6f3d-439e-979d-8f00fc5b2fd6",
   "metadata": {},
   "outputs": [],
   "source": [
    "a = 'Hello World!'"
   ]
  },
  {
   "cell_type": "code",
   "execution_count": 53,
   "id": "c6db8ee2-757f-425d-80d6-a32674e42d0e",
   "metadata": {},
   "outputs": [
    {
     "name": "stdout",
     "output_type": "stream",
     "text": [
      "Hello\n"
     ]
    }
   ],
   "source": [
    "print(a[:5])"
   ]
  },
  {
   "cell_type": "code",
   "execution_count": 57,
   "id": "eb8f01f5-5f80-4ee1-a5db-1a2c8c44f904",
   "metadata": {},
   "outputs": [
    {
     "data": {
      "text/plain": [
       "'Hello World!Hello World!Hello World!'"
      ]
     },
     "execution_count": 57,
     "metadata": {},
     "output_type": "execute_result"
    }
   ],
   "source": [
    "a*3\n"
   ]
  },
  {
   "cell_type": "code",
   "execution_count": 59,
   "id": "a4133bc9-e4a6-4bf5-9f7d-2c87609fafdf",
   "metadata": {},
   "outputs": [
    {
     "data": {
      "text/plain": [
       "'Hello World!Hello World!'"
      ]
     },
     "execution_count": 59,
     "metadata": {},
     "output_type": "execute_result"
    }
   ],
   "source": [
    "a+a"
   ]
  },
  {
   "cell_type": "code",
   "execution_count": 63,
   "id": "5dd3c026-9004-4cfa-bdb7-aada04c278ea",
   "metadata": {},
   "outputs": [
    {
     "data": {
      "text/plain": [
       "[1, 2, 3]"
      ]
     },
     "execution_count": 63,
     "metadata": {},
     "output_type": "execute_result"
    }
   ],
   "source": [
    "# List\n",
    "\n",
    "[1, 2, 3]\n"
   ]
  },
  {
   "cell_type": "code",
   "execution_count": 65,
   "id": "1f759ab6-369b-4d7a-9599-8314ccd0305d",
   "metadata": {},
   "outputs": [
    {
     "data": {
      "text/plain": [
       "['Apple', 'Chocolate', 'Ice-Cream']"
      ]
     },
     "execution_count": 65,
     "metadata": {},
     "output_type": "execute_result"
    }
   ],
   "source": [
    "['Apple', 'Chocolate', 'Ice-Cream']"
   ]
  },
  {
   "cell_type": "code",
   "execution_count": 67,
   "id": "0486970c-35ac-48fa-9853-61509ec96fc1",
   "metadata": {},
   "outputs": [
    {
     "data": {
      "text/plain": [
       "['Apple', 1, ['Scoops', 'Spoon'], True]"
      ]
     },
     "execution_count": 67,
     "metadata": {},
     "output_type": "execute_result"
    }
   ],
   "source": [
    "['Apple', 1, ['Scoops','Spoon'], True]"
   ]
  },
  {
   "cell_type": "code",
   "execution_count": 73,
   "id": "cee51faa-4f34-4834-aa01-c4114a3c6025",
   "metadata": {},
   "outputs": [
    {
     "data": {
      "text/plain": [
       "['Apple', 'Chocolate', 'Ice-Cream', 'Egg']"
      ]
     },
     "execution_count": 73,
     "metadata": {},
     "output_type": "execute_result"
    }
   ],
   "source": [
    "Food = ['Apple', 'Chocolate', 'Ice-Cream']\n",
    "\n",
    "Food.append('Egg')\n",
    "\n",
    "Food"
   ]
  },
  {
   "cell_type": "code",
   "execution_count": 77,
   "id": "080a7890-a96d-47bb-8d4f-da0a19bd5039",
   "metadata": {},
   "outputs": [
    {
     "data": {
      "text/plain": [
       "['Banana', 'Chocolate', 'Ice-Cream', 'Egg']"
      ]
     },
     "execution_count": 77,
     "metadata": {},
     "output_type": "execute_result"
    }
   ],
   "source": [
    "Food[0]= 'Banana'\n",
    "Food"
   ]
  },
  {
   "cell_type": "code",
   "execution_count": 79,
   "id": "7a527655-f3b5-4645-bfde-7f780aefd0da",
   "metadata": {},
   "outputs": [],
   "source": [
    "nest_list = ['Apple', 1, ['Scoops','Spoon'], True]"
   ]
  },
  {
   "cell_type": "code",
   "execution_count": 81,
   "id": "86829005-de93-41d8-9b11-8f5674136026",
   "metadata": {},
   "outputs": [
    {
     "data": {
      "text/plain": [
       "'Spoon'"
      ]
     },
     "execution_count": 81,
     "metadata": {},
     "output_type": "execute_result"
    }
   ],
   "source": [
    "nest_list[2][1]"
   ]
  },
  {
   "cell_type": "code",
   "execution_count": 83,
   "id": "3c8e183f-8865-4e42-8966-873de7d4a206",
   "metadata": {},
   "outputs": [],
   "source": [
    "# Tuples\n",
    "\n",
    "tuple_scoops = (1,2,3,2,1)"
   ]
  },
  {
   "cell_type": "code",
   "execution_count": 85,
   "id": "7ba6900f-936e-42b2-bc81-16fc7fce9286",
   "metadata": {},
   "outputs": [
    {
     "data": {
      "text/plain": [
       "tuple"
      ]
     },
     "execution_count": 85,
     "metadata": {},
     "output_type": "execute_result"
    }
   ],
   "source": [
    "type(tuple_scoops)"
   ]
  },
  {
   "cell_type": "code",
   "execution_count": 87,
   "id": "d2b5f983-4922-412a-a570-263c07a1682a",
   "metadata": {},
   "outputs": [
    {
     "data": {
      "text/plain": [
       "1"
      ]
     },
     "execution_count": 87,
     "metadata": {},
     "output_type": "execute_result"
    }
   ],
   "source": [
    "tuple_scoops[0]"
   ]
  },
  {
   "cell_type": "code",
   "execution_count": 89,
   "id": "c3941748-744f-4a9d-a41f-8639b235c928",
   "metadata": {},
   "outputs": [],
   "source": [
    "# we cannot append anything in tuple cause tuple has no attribute named 'append'"
   ]
  },
  {
   "cell_type": "code",
   "execution_count": null,
   "id": "e1209135-e93f-4f81-8b96-8607dc314e79",
   "metadata": {},
   "outputs": [],
   "source": []
  },
  {
   "cell_type": "code",
   "execution_count": 93,
   "id": "44f23032-25a6-4478-8813-fe39d9aa878c",
   "metadata": {},
   "outputs": [],
   "source": [
    "# Sets\n",
    "\n",
    "daily_pints = {1,2,3}"
   ]
  },
  {
   "cell_type": "code",
   "execution_count": 95,
   "id": "97349757-1ceb-4356-b3fa-a325d2d27399",
   "metadata": {},
   "outputs": [
    {
     "data": {
      "text/plain": [
       "set"
      ]
     },
     "execution_count": 95,
     "metadata": {},
     "output_type": "execute_result"
    }
   ],
   "source": [
    "type(daily_pints)"
   ]
  },
  {
   "cell_type": "code",
   "execution_count": 97,
   "id": "7c4b7fc3-2955-4297-95f0-80e9a64cc5a3",
   "metadata": {},
   "outputs": [
    {
     "name": "stdout",
     "output_type": "stream",
     "text": [
      "{1, 2, 3}\n"
     ]
    }
   ],
   "source": [
    "print(daily_pints)"
   ]
  },
  {
   "cell_type": "code",
   "execution_count": 101,
   "id": "485dd695-b8c7-4e07-bb12-a5e232b21493",
   "metadata": {},
   "outputs": [
    {
     "name": "stdout",
     "output_type": "stream",
     "text": [
      "{1, 2, 3, 4, 5, 6, 31}\n"
     ]
    }
   ],
   "source": [
    "# Set always shows unique Value\n",
    "\n",
    "daily_pints_log ={1,2,31,2,3,4,1,2,5,6}\n",
    "\n",
    "print(daily_pints_log)"
   ]
  },
  {
   "cell_type": "code",
   "execution_count": 103,
   "id": "0e028176-599d-4323-95ae-211530eb00de",
   "metadata": {},
   "outputs": [],
   "source": [
    "wifes_daily_pints_log ={1,3,4,7,3,24,2,0,3}"
   ]
  },
  {
   "cell_type": "code",
   "execution_count": 105,
   "id": "0a1277a9-7024-40e0-a0a4-23d732325c08",
   "metadata": {},
   "outputs": [
    {
     "name": "stdout",
     "output_type": "stream",
     "text": [
      "{0, 1, 2, 3, 4, 5, 6, 7, 24, 31}\n"
     ]
    }
   ],
   "source": [
    "print(daily_pints_log | wifes_daily_pints_log)"
   ]
  },
  {
   "cell_type": "code",
   "execution_count": 107,
   "id": "9e98ebb8-0b9e-4566-8d2d-53d6f68d0326",
   "metadata": {},
   "outputs": [
    {
     "name": "stdout",
     "output_type": "stream",
     "text": [
      "{1, 2, 3, 4}\n"
     ]
    }
   ],
   "source": [
    "print(daily_pints_log & wifes_daily_pints_log)"
   ]
  },
  {
   "cell_type": "code",
   "execution_count": 111,
   "id": "5a766130-d719-4273-8cf8-7d1a61029903",
   "metadata": {},
   "outputs": [
    {
     "name": "stdout",
     "output_type": "stream",
     "text": [
      "{0, 24, 7}\n"
     ]
    }
   ],
   "source": [
    "print(wifes_daily_pints_log - daily_pints_log)"
   ]
  },
  {
   "cell_type": "code",
   "execution_count": 113,
   "id": "f66575bb-42f6-4d50-8057-d2674ade183c",
   "metadata": {},
   "outputs": [
    {
     "name": "stdout",
     "output_type": "stream",
     "text": [
      "{0, 5, 6, 7, 24, 31}\n"
     ]
    }
   ],
   "source": [
    "print(wifes_daily_pints_log ^ daily_pints_log)"
   ]
  },
  {
   "cell_type": "code",
   "execution_count": 119,
   "id": "0d7369a1-de75-4364-8489-78c8b6366274",
   "metadata": {},
   "outputs": [],
   "source": [
    "# Dictionaries\n",
    "# Key/Value Pair\n",
    "\n",
    "dict_cream = {'name': 'Rumman', 'weekly intake': 5, 'favorite ice creams':['MCC', 'Chocolate'] }"
   ]
  },
  {
   "cell_type": "code",
   "execution_count": 121,
   "id": "03b03a62-ada6-4064-9665-cb776cc26f4c",
   "metadata": {},
   "outputs": [
    {
     "data": {
      "text/plain": [
       "dict"
      ]
     },
     "execution_count": 121,
     "metadata": {},
     "output_type": "execute_result"
    }
   ],
   "source": [
    "type(dict_cream)"
   ]
  },
  {
   "cell_type": "code",
   "execution_count": 123,
   "id": "56780835-5982-4ceb-b334-6a8041bde603",
   "metadata": {},
   "outputs": [
    {
     "name": "stdout",
     "output_type": "stream",
     "text": [
      "{'name': 'Rumman', 'weekly intake': 5, 'favorite ice creams': ['MCC', 'Chocolate']}\n"
     ]
    }
   ],
   "source": [
    "print(dict_cream)"
   ]
  },
  {
   "cell_type": "code",
   "execution_count": 127,
   "id": "f88148f6-c99f-4bcb-b5cf-eedac3ff24cb",
   "metadata": {},
   "outputs": [
    {
     "data": {
      "text/plain": [
       "dict_values(['Rumman', 5, ['MCC', 'Chocolate']])"
      ]
     },
     "execution_count": 127,
     "metadata": {},
     "output_type": "execute_result"
    }
   ],
   "source": [
    "dict_cream.values()"
   ]
  },
  {
   "cell_type": "code",
   "execution_count": 129,
   "id": "d09fe699-87b3-4a54-afbd-50d63c053641",
   "metadata": {},
   "outputs": [
    {
     "data": {
      "text/plain": [
       "dict_keys(['name', 'weekly intake', 'favorite ice creams'])"
      ]
     },
     "execution_count": 129,
     "metadata": {},
     "output_type": "execute_result"
    }
   ],
   "source": [
    "dict_cream.keys()"
   ]
  },
  {
   "cell_type": "code",
   "execution_count": 131,
   "id": "0d026a3f-1775-4eec-a95d-955f0673c38a",
   "metadata": {},
   "outputs": [
    {
     "data": {
      "text/plain": [
       "dict_items([('name', 'Rumman'), ('weekly intake', 5), ('favorite ice creams', ['MCC', 'Chocolate'])])"
      ]
     },
     "execution_count": 131,
     "metadata": {},
     "output_type": "execute_result"
    }
   ],
   "source": [
    "dict_cream.items()"
   ]
  },
  {
   "cell_type": "code",
   "execution_count": 133,
   "id": "f2fb1e81-f547-41f5-a1ff-8324143a1ade",
   "metadata": {},
   "outputs": [
    {
     "data": {
      "text/plain": [
       "'Rumman'"
      ]
     },
     "execution_count": 133,
     "metadata": {},
     "output_type": "execute_result"
    }
   ],
   "source": [
    "dict_cream['name']"
   ]
  },
  {
   "cell_type": "code",
   "execution_count": 135,
   "id": "1b70a1da-2302-4530-940c-8641e37a1b5f",
   "metadata": {},
   "outputs": [
    {
     "name": "stdout",
     "output_type": "stream",
     "text": [
      "{'name': 'Rumman', 'weekly intake': 5, 'favorite ice creams': ['MCC', 'Chocolate'], 'weight': 200}\n"
     ]
    }
   ],
   "source": [
    "dict_cream.update({'name': 'Rumman', 'weekly intake': 5, 'weight': 200})\n",
    "\n",
    "print(dict_cream)"
   ]
  },
  {
   "cell_type": "code",
   "execution_count": 137,
   "id": "f42779ce-8f10-4409-910c-e9d605cfdb53",
   "metadata": {},
   "outputs": [
    {
     "name": "stdout",
     "output_type": "stream",
     "text": [
      "{'name': 'Rumman', 'weekly intake': 5, 'favorite ice creams': ['MCC', 'Chocolate']}\n"
     ]
    }
   ],
   "source": [
    "del dict_cream['weight']\n",
    "print(dict_cream)"
   ]
  },
  {
   "cell_type": "code",
   "execution_count": null,
   "id": "33eeee2c-47fa-405e-9388-cdc50efe3757",
   "metadata": {},
   "outputs": [],
   "source": []
  },
  {
   "cell_type": "code",
   "execution_count": null,
   "id": "fb0f0e2d-b0d3-41c2-8eea-c6dfbb679d50",
   "metadata": {},
   "outputs": [],
   "source": []
  },
  {
   "cell_type": "code",
   "execution_count": null,
   "id": "2b47a974-cae9-42da-8ae8-1154f505e837",
   "metadata": {},
   "outputs": [],
   "source": []
  },
  {
   "cell_type": "code",
   "execution_count": null,
   "id": "8cfeac38-e2e1-42f1-8c42-26eb72c3c42b",
   "metadata": {},
   "outputs": [],
   "source": []
  },
  {
   "cell_type": "code",
   "execution_count": null,
   "id": "7db82861-d7d9-4249-b650-1677253a6cc6",
   "metadata": {},
   "outputs": [],
   "source": []
  },
  {
   "cell_type": "code",
   "execution_count": null,
   "id": "2bfe1d6d-9747-42c8-82da-a5919701ad08",
   "metadata": {},
   "outputs": [],
   "source": []
  },
  {
   "cell_type": "code",
   "execution_count": null,
   "id": "0e671d3a-f1b2-416b-9ae7-97206d82b135",
   "metadata": {},
   "outputs": [],
   "source": []
  }
 ],
 "metadata": {
  "kernelspec": {
   "display_name": "Python [conda env:base] *",
   "language": "python",
   "name": "conda-base-py"
  },
  "language_info": {
   "codemirror_mode": {
    "name": "ipython",
    "version": 3
   },
   "file_extension": ".py",
   "mimetype": "text/x-python",
   "name": "python",
   "nbconvert_exporter": "python",
   "pygments_lexer": "ipython3",
   "version": "3.12.7"
  }
 },
 "nbformat": 4,
 "nbformat_minor": 5
}
