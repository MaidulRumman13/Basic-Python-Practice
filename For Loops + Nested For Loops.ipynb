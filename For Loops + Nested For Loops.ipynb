{
 "cells": [
  {
   "cell_type": "markdown",
   "id": "7917f0c6-0fcd-4ba9-95e3-89af89ca1b29",
   "metadata": {},
   "source": [
    "### ForLoops"
   ]
  },
  {
   "cell_type": "code",
   "execution_count": 7,
   "id": "128bb47a-4156-441f-a9dd-5d9c2cf027e5",
   "metadata": {},
   "outputs": [],
   "source": [
    "integers = [1,2,3,4,5]"
   ]
  },
  {
   "cell_type": "code",
   "execution_count": 9,
   "id": "1d5aff9b-b0ef-490f-9bbd-aa685ced3545",
   "metadata": {},
   "outputs": [
    {
     "name": "stdout",
     "output_type": "stream",
     "text": [
      "1\n",
      "2\n",
      "3\n",
      "4\n",
      "5\n"
     ]
    }
   ],
   "source": [
    "for number in integers:\n",
    "    print(number)"
   ]
  },
  {
   "cell_type": "code",
   "execution_count": 11,
   "id": "d750ae34-4549-46f2-9168-d87a397d12d7",
   "metadata": {},
   "outputs": [
    {
     "name": "stdout",
     "output_type": "stream",
     "text": [
      "yep!\n",
      "yep!\n",
      "yep!\n",
      "yep!\n",
      "yep!\n"
     ]
    }
   ],
   "source": [
    "for number in integers:\n",
    "    print('yep!')"
   ]
  },
  {
   "cell_type": "code",
   "execution_count": 13,
   "id": "18da9ca1-88a1-4ea5-a66f-503ee3449bcc",
   "metadata": {},
   "outputs": [],
   "source": [
    "integers = [1,2,3,4,5]"
   ]
  },
  {
   "cell_type": "code",
   "execution_count": 15,
   "id": "acfc82a9-4283-49ec-bf0c-6c1e4b76cb86",
   "metadata": {},
   "outputs": [
    {
     "name": "stdout",
     "output_type": "stream",
     "text": [
      "2\n",
      "4\n",
      "6\n",
      "8\n",
      "10\n"
     ]
    }
   ],
   "source": [
    "for num in integers:\n",
    "    print(num + num)"
   ]
  },
  {
   "cell_type": "code",
   "execution_count": 17,
   "id": "c9be9fa9-668b-4618-a4ca-4b5de7e6b16a",
   "metadata": {},
   "outputs": [],
   "source": [
    "ice_cream_dict = {'name': 'Rumman', 'weekly intake': 5, 'favorite ice creams':['MCC', 'Chocolate'] }"
   ]
  },
  {
   "cell_type": "code",
   "execution_count": 19,
   "id": "5d81e919-f52d-49e1-a7d1-bd324188fc00",
   "metadata": {},
   "outputs": [
    {
     "name": "stdout",
     "output_type": "stream",
     "text": [
      "Rumman\n",
      "5\n",
      "['MCC', 'Chocolate']\n"
     ]
    }
   ],
   "source": [
    "for cream in ice_cream_dict.values():\n",
    "    print(cream)"
   ]
  },
  {
   "cell_type": "code",
   "execution_count": 25,
   "id": "48ed05e6-8633-4422-8e36-1f179433bdb6",
   "metadata": {},
   "outputs": [
    {
     "name": "stdout",
     "output_type": "stream",
     "text": [
      "name -> Rumman\n",
      "weekly intake -> 5\n",
      "favorite ice creams -> ['MCC', 'Chocolate']\n"
     ]
    }
   ],
   "source": [
    "for key, value in ice_cream_dict.items():\n",
    "    print(key, '->', value)"
   ]
  },
  {
   "cell_type": "markdown",
   "id": "27ad70e0-9771-4c13-80b4-c8d7935ed3fe",
   "metadata": {},
   "source": [
    "### Nested For Loops"
   ]
  },
  {
   "cell_type": "code",
   "execution_count": 38,
   "id": "aa6118af-2da8-43f6-a1a4-ef5d5538b752",
   "metadata": {},
   "outputs": [],
   "source": [
    "flavors = ['vanilla', 'Chocolate', 'Cookie Dough']\n",
    "toppings = ['Hot Fudge', 'Oreos',' Marshmallows']"
   ]
  },
  {
   "cell_type": "code",
   "execution_count": 40,
   "id": "5c979b95-a6ae-4f9e-a812-a7f8e0dfce15",
   "metadata": {},
   "outputs": [
    {
     "name": "stdout",
     "output_type": "stream",
     "text": [
      "vanilla topped with Hot Fudge\n",
      "vanilla topped with Oreos\n",
      "vanilla topped with  Marshmallows\n",
      "Chocolate topped with Hot Fudge\n",
      "Chocolate topped with Oreos\n",
      "Chocolate topped with  Marshmallows\n",
      "Cookie Dough topped with Hot Fudge\n",
      "Cookie Dough topped with Oreos\n",
      "Cookie Dough topped with  Marshmallows\n"
     ]
    }
   ],
   "source": [
    "for one in flavors:\n",
    "    for two in toppings:\n",
    "        print(one, 'topped with', two)"
   ]
  },
  {
   "cell_type": "code",
   "execution_count": null,
   "id": "6277aa7f-fc52-4a7d-836b-00a0736ffc91",
   "metadata": {},
   "outputs": [],
   "source": []
  },
  {
   "cell_type": "code",
   "execution_count": null,
   "id": "ad8d5442-d300-430c-a742-8f15ef525839",
   "metadata": {},
   "outputs": [],
   "source": []
  },
  {
   "cell_type": "code",
   "execution_count": null,
   "id": "161253fa-ef4b-4d62-a0e5-d47ace2a27ad",
   "metadata": {},
   "outputs": [],
   "source": []
  },
  {
   "cell_type": "code",
   "execution_count": null,
   "id": "507fce08-befe-41cd-9e12-f86f26ce5be4",
   "metadata": {},
   "outputs": [],
   "source": []
  },
  {
   "cell_type": "code",
   "execution_count": null,
   "id": "112f4e09-8f21-4ac7-940c-d157dcade1e7",
   "metadata": {},
   "outputs": [],
   "source": []
  },
  {
   "cell_type": "code",
   "execution_count": null,
   "id": "4163cf99-a97a-4647-a98b-2c9a08b46efc",
   "metadata": {},
   "outputs": [],
   "source": []
  },
  {
   "cell_type": "code",
   "execution_count": null,
   "id": "d7281a7e-9031-4f82-82b1-35ffcc7d1802",
   "metadata": {},
   "outputs": [],
   "source": []
  },
  {
   "cell_type": "code",
   "execution_count": null,
   "id": "defe043b-3cac-4e10-8742-01d019a68a7f",
   "metadata": {},
   "outputs": [],
   "source": []
  },
  {
   "cell_type": "code",
   "execution_count": null,
   "id": "308f5cbd-6987-454a-8f16-a8726e82b0d5",
   "metadata": {},
   "outputs": [],
   "source": []
  },
  {
   "cell_type": "code",
   "execution_count": null,
   "id": "1b685089-d565-4bbd-8a93-db27ce1fd67f",
   "metadata": {},
   "outputs": [],
   "source": []
  },
  {
   "cell_type": "code",
   "execution_count": null,
   "id": "4b9fd160-f5ba-48ea-acde-65eb9f63f8a3",
   "metadata": {},
   "outputs": [],
   "source": []
  },
  {
   "cell_type": "code",
   "execution_count": null,
   "id": "b7ab147c-c866-40c4-893d-ea9d4415f456",
   "metadata": {},
   "outputs": [],
   "source": []
  },
  {
   "cell_type": "code",
   "execution_count": null,
   "id": "41801a0e-2f41-4828-baba-3740d6af9288",
   "metadata": {},
   "outputs": [],
   "source": []
  },
  {
   "cell_type": "code",
   "execution_count": null,
   "id": "1a35c39d-75da-42d2-8ca4-dee438b7518f",
   "metadata": {},
   "outputs": [],
   "source": []
  }
 ],
 "metadata": {
  "kernelspec": {
   "display_name": "Python [conda env:base] *",
   "language": "python",
   "name": "conda-base-py"
  },
  "language_info": {
   "codemirror_mode": {
    "name": "ipython",
    "version": 3
   },
   "file_extension": ".py",
   "mimetype": "text/x-python",
   "name": "python",
   "nbconvert_exporter": "python",
   "pygments_lexer": "ipython3",
   "version": "3.12.7"
  }
 },
 "nbformat": 4,
 "nbformat_minor": 5
}
