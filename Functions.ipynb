{
 "cells": [
  {
   "cell_type": "markdown",
   "id": "5c53bb5a-c6f7-4c9a-8630-7375988c8e9c",
   "metadata": {},
   "source": [
    "### Functions"
   ]
  },
  {
   "cell_type": "code",
   "execution_count": 2,
   "id": "66988d97-a2b2-41d4-83f8-e09153940682",
   "metadata": {},
   "outputs": [],
   "source": [
    "def first_func():\n",
    "    print('We did it!')"
   ]
  },
  {
   "cell_type": "code",
   "execution_count": 4,
   "id": "3171e7c4-816b-48e1-b509-451bd2128b43",
   "metadata": {},
   "outputs": [
    {
     "name": "stdout",
     "output_type": "stream",
     "text": [
      "We did it!\n"
     ]
    }
   ],
   "source": [
    "first_func()"
   ]
  },
  {
   "cell_type": "code",
   "execution_count": 6,
   "id": "2f7b2aa3-53bd-4cd9-b7a5-f9c70db36b35",
   "metadata": {},
   "outputs": [],
   "source": [
    "def number_squared(number):\n",
    "    print(number**2)"
   ]
  },
  {
   "cell_type": "code",
   "execution_count": 8,
   "id": "2c1e2316-9f81-4fe2-a413-93c41fb79b35",
   "metadata": {},
   "outputs": [
    {
     "name": "stdout",
     "output_type": "stream",
     "text": [
      "25\n"
     ]
    }
   ],
   "source": [
    "number_squared(5)"
   ]
  },
  {
   "cell_type": "code",
   "execution_count": 10,
   "id": "3a91feea-8469-4a54-94cf-77fa32cb06c1",
   "metadata": {},
   "outputs": [],
   "source": [
    "def number_squared_cust(number, power):\n",
    "    print(number**power)"
   ]
  },
  {
   "cell_type": "code",
   "execution_count": 12,
   "id": "8f00deae-743b-4ce8-9f08-79feb62f766f",
   "metadata": {},
   "outputs": [
    {
     "name": "stdout",
     "output_type": "stream",
     "text": [
      "125\n"
     ]
    }
   ],
   "source": [
    "number_squared_cust(5,3)"
   ]
  },
  {
   "cell_type": "code",
   "execution_count": 18,
   "id": "e04e0c25-4d09-417a-bc91-8f60d62dab4a",
   "metadata": {},
   "outputs": [],
   "source": [
    "#arbitrary Arguments\n",
    "\n",
    "args_tuple = (5,6,1,2,8)\n",
    "\n",
    "\n",
    "def number_argu(*number):\n",
    "    print(number[0]*number[1])"
   ]
  },
  {
   "cell_type": "code",
   "execution_count": 20,
   "id": "0b234873-28d7-46f7-84e9-1fc03a7c6683",
   "metadata": {},
   "outputs": [
    {
     "name": "stdout",
     "output_type": "stream",
     "text": [
      "30\n"
     ]
    }
   ],
   "source": [
    "number_argu(*args_tuple)"
   ]
  },
  {
   "cell_type": "code",
   "execution_count": 22,
   "id": "a7226e83-ba64-4b4e-bb5d-a23f7594859c",
   "metadata": {},
   "outputs": [],
   "source": [
    "# Keyword Arguments\n",
    "\n",
    "def number_squared_cust(number, power):\n",
    "    print(number**power)"
   ]
  },
  {
   "cell_type": "code",
   "execution_count": 24,
   "id": "4458d461-78df-4241-b647-6666e51b9a2d",
   "metadata": {},
   "outputs": [
    {
     "name": "stdout",
     "output_type": "stream",
     "text": [
      "243\n"
     ]
    }
   ],
   "source": [
    "number_squared_cust(power = 5,number = 3)"
   ]
  },
  {
   "cell_type": "code",
   "execution_count": 46,
   "id": "5d774cef-8417-430b-922c-981da90ee975",
   "metadata": {},
   "outputs": [],
   "source": [
    "# Arbitrary Keyword Arguments\n",
    "\n",
    "def number_kwarg(**number):\n",
    "    print('My number is:' + number['integer'] + ' My Other number is: ' + number['integer2'])"
   ]
  },
  {
   "cell_type": "code",
   "execution_count": 48,
   "id": "73e896cf-e88a-4558-bd6b-4fb1c6e4041d",
   "metadata": {},
   "outputs": [
    {
     "name": "stdout",
     "output_type": "stream",
     "text": [
      "My number is:2309 My Other number is: 349\n"
     ]
    }
   ],
   "source": [
    "number_kwarg(integer = '2309', integer2 = '349')"
   ]
  },
  {
   "cell_type": "code",
   "execution_count": null,
   "id": "deb8641d-8f17-4c4b-9753-c8896135a624",
   "metadata": {},
   "outputs": [],
   "source": []
  },
  {
   "cell_type": "code",
   "execution_count": null,
   "id": "84b0fd25-faa2-44b5-986c-5e6f4116d9ad",
   "metadata": {},
   "outputs": [],
   "source": []
  },
  {
   "cell_type": "code",
   "execution_count": null,
   "id": "c9a9e156-58c6-4763-bf51-237aa3a36c57",
   "metadata": {},
   "outputs": [],
   "source": []
  },
  {
   "cell_type": "code",
   "execution_count": null,
   "id": "eda61581-435c-49b9-9ed9-30e9c8eedacd",
   "metadata": {},
   "outputs": [],
   "source": []
  },
  {
   "cell_type": "code",
   "execution_count": null,
   "id": "83669cfb-18bc-45da-823a-783257882fd4",
   "metadata": {},
   "outputs": [],
   "source": []
  },
  {
   "cell_type": "code",
   "execution_count": null,
   "id": "1ceb2f58-124b-4768-a644-faeb186f05ac",
   "metadata": {},
   "outputs": [],
   "source": []
  },
  {
   "cell_type": "code",
   "execution_count": null,
   "id": "14a95c95-3407-4c8f-8444-998ea940c3be",
   "metadata": {},
   "outputs": [],
   "source": []
  }
 ],
 "metadata": {
  "kernelspec": {
   "display_name": "Python [conda env:base] *",
   "language": "python",
   "name": "conda-base-py"
  },
  "language_info": {
   "codemirror_mode": {
    "name": "ipython",
    "version": 3
   },
   "file_extension": ".py",
   "mimetype": "text/x-python",
   "name": "python",
   "nbconvert_exporter": "python",
   "pygments_lexer": "ipython3",
   "version": "3.12.7"
  }
 },
 "nbformat": 4,
 "nbformat_minor": 5
}
