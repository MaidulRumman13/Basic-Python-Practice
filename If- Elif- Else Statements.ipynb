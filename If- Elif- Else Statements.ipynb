{
 "cells": [
  {
   "cell_type": "markdown",
   "id": "94ab00e4-5448-4b00-8704-c2a69e3f25e6",
   "metadata": {},
   "source": [
    "If- Elif - Else Statements"
   ]
  },
  {
   "cell_type": "code",
   "execution_count": 5,
   "id": "3d421f45-c619-4999-b24f-f1d658542eb7",
   "metadata": {},
   "outputs": [
    {
     "name": "stdout",
     "output_type": "stream",
     "text": [
      "It worked!\n"
     ]
    }
   ],
   "source": [
    "if 25 > 10:\n",
    "    print('It worked!')"
   ]
  },
  {
   "cell_type": "code",
   "execution_count": 17,
   "id": "f6e0a332-6a1d-48b9-8fb5-b5331950d885",
   "metadata": {},
   "outputs": [
    {
     "name": "stdout",
     "output_type": "stream",
     "text": [
      "It didn't work...\n"
     ]
    }
   ],
   "source": [
    "if 25 < 10:\n",
    "    print('It worked!')\n",
    "else:\n",
    "    print('It didn'\"'t work...\")"
   ]
  },
  {
   "cell_type": "code",
   "execution_count": 19,
   "id": "929c9314-f5ba-45b7-9c47-d702d4b7952d",
   "metadata": {},
   "outputs": [
    {
     "name": "stdout",
     "output_type": "stream",
     "text": [
      "elif worked!\n"
     ]
    }
   ],
   "source": [
    "if 25 < 10:\n",
    "    print('It worked!')\n",
    "elif 25 < 30:\n",
    "    print('elif worked!')\n",
    "else:\n",
    "    print('It didn'\"'t work...\")"
   ]
  },
  {
   "cell_type": "code",
   "execution_count": 23,
   "id": "760ad5cd-8552-427b-985f-20e7031f080a",
   "metadata": {},
   "outputs": [
    {
     "name": "stdout",
     "output_type": "stream",
     "text": [
      "It didn't work...\n"
     ]
    }
   ],
   "source": [
    "print('It worked!') if 10 > 30 else print('It didn'\"'t work...\")"
   ]
  },
  {
   "cell_type": "code",
   "execution_count": 27,
   "id": "203f6213-90fa-40c8-8c36-7d8e24f06bfe",
   "metadata": {},
   "outputs": [
    {
     "name": "stdout",
     "output_type": "stream",
     "text": [
      "It worked!\n",
      "This is a nested if Statement.\n"
     ]
    }
   ],
   "source": [
    "if 25 > 10:\n",
    "    print('It worked!')\n",
    "    if 5 < 10:\n",
    "        print('This is a nested if Statement.')\n",
    "elif 25 < 30:\n",
    "    print('elif worked!')\n",
    "else:\n",
    "    print('It didn'\"'t work...\")"
   ]
  },
  {
   "cell_type": "code",
   "execution_count": null,
   "id": "5a47418d-94f6-4f35-88d3-db77abe1479f",
   "metadata": {},
   "outputs": [],
   "source": []
  },
  {
   "cell_type": "code",
   "execution_count": null,
   "id": "f1024130-daed-4f9a-aea2-c595f355735e",
   "metadata": {},
   "outputs": [],
   "source": []
  },
  {
   "cell_type": "code",
   "execution_count": null,
   "id": "f5a1b5a7-6c59-4f8c-a39b-5af74b3150d7",
   "metadata": {},
   "outputs": [],
   "source": []
  },
  {
   "cell_type": "code",
   "execution_count": null,
   "id": "d854746b-5b67-4bf8-96d3-b8bb185e8137",
   "metadata": {},
   "outputs": [],
   "source": []
  },
  {
   "cell_type": "code",
   "execution_count": null,
   "id": "ed987366-0fa8-4141-93a1-2c6872556bb3",
   "metadata": {},
   "outputs": [],
   "source": []
  },
  {
   "cell_type": "code",
   "execution_count": null,
   "id": "30850fea-b686-4571-b6e5-db1c9fe7fb79",
   "metadata": {},
   "outputs": [],
   "source": []
  },
  {
   "cell_type": "code",
   "execution_count": null,
   "id": "ef4dae70-44e3-45b5-8030-4a9bfbf85932",
   "metadata": {},
   "outputs": [],
   "source": []
  },
  {
   "cell_type": "code",
   "execution_count": null,
   "id": "5d02a5fd-cf76-4e7b-89fe-843f9b1800d9",
   "metadata": {},
   "outputs": [],
   "source": []
  },
  {
   "cell_type": "code",
   "execution_count": null,
   "id": "2648895f-389c-465e-a65e-48efc1434802",
   "metadata": {},
   "outputs": [],
   "source": []
  },
  {
   "cell_type": "code",
   "execution_count": null,
   "id": "967f4854-a3f4-45c9-8875-027567b2d307",
   "metadata": {},
   "outputs": [],
   "source": []
  },
  {
   "cell_type": "code",
   "execution_count": null,
   "id": "e7302dc3-0bcf-4098-93a2-0f3f9b34f5af",
   "metadata": {},
   "outputs": [],
   "source": []
  },
  {
   "cell_type": "code",
   "execution_count": null,
   "id": "6a9215ac-b62a-4b55-a724-240cde47b0b5",
   "metadata": {},
   "outputs": [],
   "source": []
  },
  {
   "cell_type": "code",
   "execution_count": null,
   "id": "538e3ea1-07d3-428f-aca2-b2eefa53f7d4",
   "metadata": {},
   "outputs": [],
   "source": []
  },
  {
   "cell_type": "code",
   "execution_count": null,
   "id": "c3932e06-8724-447f-b95f-4edc0a81d786",
   "metadata": {},
   "outputs": [],
   "source": []
  },
  {
   "cell_type": "code",
   "execution_count": null,
   "id": "90595b67-6308-46bd-91c4-552838e7e54e",
   "metadata": {},
   "outputs": [],
   "source": []
  },
  {
   "cell_type": "code",
   "execution_count": null,
   "id": "8c2d39eb-f798-427c-b842-24dea62a2314",
   "metadata": {},
   "outputs": [],
   "source": []
  },
  {
   "cell_type": "code",
   "execution_count": null,
   "id": "5af228d2-ed8e-4c5b-89ac-e35b991b6276",
   "metadata": {},
   "outputs": [],
   "source": []
  },
  {
   "cell_type": "code",
   "execution_count": null,
   "id": "76a16c57-f351-4e5a-baba-0f56a7394bf6",
   "metadata": {},
   "outputs": [],
   "source": []
  },
  {
   "cell_type": "code",
   "execution_count": null,
   "id": "a5c8db6b-2f98-4003-bae8-78a36bed4724",
   "metadata": {},
   "outputs": [],
   "source": []
  },
  {
   "cell_type": "code",
   "execution_count": null,
   "id": "7f3a6e5e-04a7-44c6-92f5-d754a44761a4",
   "metadata": {},
   "outputs": [],
   "source": []
  },
  {
   "cell_type": "code",
   "execution_count": null,
   "id": "6c44661f-0c95-4f7d-adc6-f25571f80562",
   "metadata": {},
   "outputs": [],
   "source": []
  },
  {
   "cell_type": "code",
   "execution_count": null,
   "id": "2f42bcda-9840-44cd-abba-c6b06a4038ee",
   "metadata": {},
   "outputs": [],
   "source": []
  },
  {
   "cell_type": "code",
   "execution_count": null,
   "id": "9e1a2e80-1173-45c9-85ed-06f424ed720d",
   "metadata": {},
   "outputs": [],
   "source": []
  },
  {
   "cell_type": "code",
   "execution_count": null,
   "id": "70633bba-2d61-4824-aaf7-b1afe9f1d56f",
   "metadata": {},
   "outputs": [],
   "source": []
  }
 ],
 "metadata": {
  "kernelspec": {
   "display_name": "Python [conda env:base] *",
   "language": "python",
   "name": "conda-base-py"
  },
  "language_info": {
   "codemirror_mode": {
    "name": "ipython",
    "version": 3
   },
   "file_extension": ".py",
   "mimetype": "text/x-python",
   "name": "python",
   "nbconvert_exporter": "python",
   "pygments_lexer": "ipython3",
   "version": "3.12.7"
  }
 },
 "nbformat": 4,
 "nbformat_minor": 5
}
