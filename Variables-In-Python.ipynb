{
 "cells": [
  {
   "cell_type": "markdown",
   "id": "8df7b161-8bf6-4c02-8f0b-ca0a09f52908",
   "metadata": {},
   "source": [
    "Variables In Python\n"
   ]
  },
  {
   "cell_type": "code",
   "execution_count": 4,
   "id": "9a38f7f0-1920-42f5-8068-351e784ff208",
   "metadata": {},
   "outputs": [
    {
     "name": "stdout",
     "output_type": "stream",
     "text": [
      "22\n"
     ]
    }
   ],
   "source": [
    "x = 22\n",
    "print(x)"
   ]
  },
  {
   "cell_type": "code",
   "execution_count": 6,
   "id": "72a0712d-33d2-4f78-b210-160dae655598",
   "metadata": {},
   "outputs": [
    {
     "data": {
      "text/plain": [
       "int"
      ]
     },
     "execution_count": 6,
     "metadata": {},
     "output_type": "execute_result"
    }
   ],
   "source": [
    "type(x)"
   ]
  },
  {
   "cell_type": "code",
   "execution_count": 8,
   "id": "ba3ff3b4-9fb2-4dbe-ad1d-f9ee3421cd5e",
   "metadata": {},
   "outputs": [
    {
     "name": "stdout",
     "output_type": "stream",
     "text": [
      "Hello World\n"
     ]
    }
   ],
   "source": [
    "y = 'Hello World'\n",
    "print(y)"
   ]
  },
  {
   "cell_type": "code",
   "execution_count": 10,
   "id": "749d7942-8442-4732-9eb7-0f59108e4eb9",
   "metadata": {},
   "outputs": [
    {
     "data": {
      "text/plain": [
       "str"
      ]
     },
     "execution_count": 10,
     "metadata": {},
     "output_type": "execute_result"
    }
   ],
   "source": [
    "type(y)"
   ]
  },
  {
   "cell_type": "code",
   "execution_count": 12,
   "id": "481fcd3c-f835-4f4a-b5f2-78f23a5113ce",
   "metadata": {},
   "outputs": [
    {
     "name": "stdout",
     "output_type": "stream",
     "text": [
      "[10, 20, 30]\n"
     ]
    }
   ],
   "source": [
    " z = [10, 20, 30]\n",
    "print(z)"
   ]
  },
  {
   "cell_type": "code",
   "execution_count": 14,
   "id": "a715207a-abf5-497d-897b-1baa0594a4fd",
   "metadata": {},
   "outputs": [
    {
     "data": {
      "text/plain": [
       "list"
      ]
     },
     "execution_count": 14,
     "metadata": {},
     "output_type": "execute_result"
    }
   ],
   "source": [
    "type(z)"
   ]
  },
  {
   "cell_type": "markdown",
   "id": "34d55928-4c48-410f-84bb-4b01554f4ff7",
   "metadata": {},
   "source": [
    "Naming the Variable"
   ]
  },
  {
   "cell_type": "code",
   "execution_count": null,
   "id": "0542452a-aa3f-48fa-8be5-982fb6c45a38",
   "metadata": {},
   "outputs": [],
   "source": [
    "# Camel Case\n",
    "# Test Variable Case\n",
    "testVariableCase = 'Apple Juice'"
   ]
  },
  {
   "cell_type": "code",
   "execution_count": null,
   "id": "03056d5d-72d2-48b9-a8c4-0eabc6818b1c",
   "metadata": {},
   "outputs": [],
   "source": [
    "# Pascal Case\n",
    "# Test Variable Case\n",
    "TestVariableCase = 'Apple Juice'"
   ]
  },
  {
   "cell_type": "code",
   "execution_count": null,
   "id": "5a9f9437-81ca-4d7a-88e5-102f004845b5",
   "metadata": {},
   "outputs": [],
   "source": [
    "# Snake Case\n",
    "# Test Variable Case\n",
    "test_variable_case = 'Apple Juice'"
   ]
  },
  {
   "cell_type": "code",
   "execution_count": null,
   "id": "48929d49-552e-4932-9bc4-3bd643f9fd37",
   "metadata": {},
   "outputs": [],
   "source": []
  },
  {
   "cell_type": "code",
   "execution_count": null,
   "id": "d982d680-a34c-43b6-87ae-af65b20d3acc",
   "metadata": {},
   "outputs": [],
   "source": []
  },
  {
   "cell_type": "code",
   "execution_count": null,
   "id": "bde8a59c-d8e0-4822-8e2b-173f309a7950",
   "metadata": {},
   "outputs": [],
   "source": []
  },
  {
   "cell_type": "code",
   "execution_count": null,
   "id": "4c8d0000-3763-40a7-8db7-b216d878df98",
   "metadata": {},
   "outputs": [],
   "source": []
  },
  {
   "cell_type": "code",
   "execution_count": null,
   "id": "c2ca86a9-bd2e-4299-b5c6-0b4fafc67c54",
   "metadata": {},
   "outputs": [],
   "source": []
  }
 ],
 "metadata": {
  "kernelspec": {
   "display_name": "Python [conda env:base] *",
   "language": "python",
   "name": "conda-base-py"
  },
  "language_info": {
   "codemirror_mode": {
    "name": "ipython",
    "version": 3
   },
   "file_extension": ".py",
   "mimetype": "text/x-python",
   "name": "python",
   "nbconvert_exporter": "python",
   "pygments_lexer": "ipython3",
   "version": "3.12.7"
  }
 },
 "nbformat": 4,
 "nbformat_minor": 5
}
